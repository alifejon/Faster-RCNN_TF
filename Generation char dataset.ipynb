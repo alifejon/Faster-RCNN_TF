{
 "cells": [
  {
   "cell_type": "code",
   "execution_count": 1,
   "metadata": {
    "ExecuteTime": {
     "end_time": "2017-11-23T03:01:16.118268Z",
     "start_time": "2017-11-23T03:01:15.006092Z"
    }
   },
   "outputs": [],
   "source": [
    "%matplotlib inline\n",
    "\n",
    "from os import listdir, path, makedirs\n",
    "from os.path import isfile, isdir, join, basename, dirname\n",
    "import matplotlib.pyplot as plt\n",
    "import matplotlib.patches as patches\n",
    "\n",
    "import numpy as np\n",
    "from PIL import Image, ImageDraw, ImageFont\n",
    "import pandas as pd \n",
    "import PIL as pil\n",
    "\n"
   ]
  },
  {
   "cell_type": "code",
   "execution_count": 32,
   "metadata": {
    "ExecuteTime": {
     "end_time": "2017-11-23T04:56:09.308670Z",
     "start_time": "2017-11-23T04:56:09.184763Z"
    }
   },
   "outputs": [
    {
     "name": "stdout",
     "output_type": "stream",
     "text": [
      "(50, 49)\n",
      "(50, 49)\n",
      "(100, 49)\n"
     ]
    }
   ],
   "source": [
    "im = Image.new('RGBA', (800, 600), (256, 256, 256, 256))\n",
    "draw = ImageDraw.Draw(im)\n",
    "\n",
    "font = ImageFont.truetype('/System/Library/Fonts/AppleGothic.ttf',50)\n",
    "# font = ImageFont.load_default()\n",
    "ret = draw.text((100, 100), '바다', font=font, fill=(255, 255, 255, 128))\n",
    "ret = draw.text((100, 150), '바', font=font, fill=(255, 255, 255, 255))\n",
    "ret = draw.text((100, 200), '다', font=font, fill=(0, 0, 0, 0))\n",
    "print(font.getsize('바'))\n",
    "print(font.getsize('다'))\n",
    "print(font.getsize('바다'))\n",
    "im.show()\n",
    "im.save('test.png')"
   ]
  }
 ],
 "metadata": {
  "kernelspec": {
   "display_name": "Python 3",
   "language": "python",
   "name": "python3"
  },
  "language_info": {
   "codemirror_mode": {
    "name": "ipython",
    "version": 3
   },
   "file_extension": ".py",
   "mimetype": "text/x-python",
   "name": "python",
   "nbconvert_exporter": "python",
   "pygments_lexer": "ipython3",
   "version": "3.6.2"
  },
  "varInspector": {
   "cols": {
    "lenName": 16,
    "lenType": 16,
    "lenVar": 40
   },
   "kernels_config": {
    "python": {
     "delete_cmd_postfix": "",
     "delete_cmd_prefix": "del ",
     "library": "var_list.py",
     "varRefreshCmd": "print(var_dic_list())"
    },
    "r": {
     "delete_cmd_postfix": ") ",
     "delete_cmd_prefix": "rm(",
     "library": "var_list.r",
     "varRefreshCmd": "cat(var_dic_list()) "
    }
   },
   "types_to_exclude": [
    "module",
    "function",
    "builtin_function_or_method",
    "instance",
    "_Feature"
   ],
   "window_display": false
  }
 },
 "nbformat": 4,
 "nbformat_minor": 2
}
